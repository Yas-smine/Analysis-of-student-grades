{
 "cells": [
  {
   "cell_type": "code",
   "execution_count": null,
   "id": "b32fc918",
   "metadata": {},
   "outputs": [
    {
     "name": "stdout",
     "output_type": "stream",
     "text": [
      "Mean grades: 87.5\n",
      "Median grades: 88.5\n",
      "Standard deviation: 6.591661399070799\n",
      "MAX: 98\n",
      "MIN: 75\n",
      "sorted_grades: [75 80 83 85 88 89 90 92 95 98]\n",
      "The index of the highest grade is 7\n",
      "The number of students who scored above 90 is 3\n",
      "The percentage of students who scored above 90 is 30.0%\n",
      "The percentage of students who scored above 75 is 90.0%\n",
      "The high performers(grades above 90) are :  [92 95 98]\n",
      "The passing grades (grades above 75) are: [85 90 88 92 95 80 98 89 83]\n"
     ]
    }
   ],
   "source": [
    "import numpy as np\n",
    "\n",
    "# Student grades\n",
    "grades = np.array([85, 90, 88, 92, 95, 80, 75, 98, 89, 83])\n",
    "# mean\n",
    "mean_grades = np.mean(grades)\n",
    "print(\"Mean grades:\", mean_grades)\n",
    "# median\n",
    "median_grades = np.median(grades)\n",
    "print(\"Median grades:\", median_grades)\n",
    "# standard deviation (spread of grades)\n",
    "std_dev = np.std(grades)\n",
    "print(\"Standard deviation:\", std_dev)\n",
    "# max : Highest grade\n",
    "max_val = np.max(grades)\n",
    "print(\"MAX:\", max_val)\n",
    "# min : Lowest grade\n",
    "min_val = np.min(grades)\n",
    "print(\"MIN:\", min_val)\n",
    "# Sort grades in ascending order\n",
    "sorted_grades = np.sort(grades)\n",
    "print(\"sorted_grades:\", sorted_grades)\n",
    "# Index of the highest grade\n",
    "index_highest_grade = np.argmax(grades)\n",
    "print(\"The index of the highest grade is\",index_highest_grade )\n",
    "# Count of students scoring above 90\n",
    "count1 = np.sum(grades > 90) \n",
    "print(\"The number of students who scored above 90 is\", count1 )\n",
    "# Percentage of students scoring above 90\n",
    "count_perc90 = (np.sum(grades > 90)/grades.size)*100 # (in this case grades.size =10)\n",
    "print( f\"The percentage of students who scored above 90 is {count_perc90}%\")\n",
    "# Percentage of students scoring above 75\n",
    "count_perc75 = (np.sum(grades > 75)/grades.size)*100\n",
    "print( f\"The percentage of students who scored above 75 is {count_perc75}%\")\n",
    "# High performers (grades > 90)\n",
    "high_performers = grades[grades>90]\n",
    "print(\"The high performers(grades above 90) are : \", high_performers)\n",
    "# Passing grades (grades > 75)\n",
    "passing_grades = grades[grades>75]\n",
    "print(\"The passing grades (grades above 75) are:\", passing_grades)"
   ]
  }
 ],
 "metadata": {
  "kernelspec": {
   "display_name": "Python 3",
   "language": "python",
   "name": "python3"
  },
  "language_info": {
   "codemirror_mode": {
    "name": "ipython",
    "version": 3
   },
   "file_extension": ".py",
   "mimetype": "text/x-python",
   "name": "python",
   "nbconvert_exporter": "python",
   "pygments_lexer": "ipython3",
   "version": "3.11.9"
  }
 },
 "nbformat": 4,
 "nbformat_minor": 5
}
